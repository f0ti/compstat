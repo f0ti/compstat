{
 "cells": [
  {
   "cell_type": "code",
   "execution_count": 10,
   "metadata": {},
   "outputs": [],
   "source": [
    "from dowhy import CausalModel\n",
    "import pandas as pd\n",
    "import networkx as nx"
   ]
  },
  {
   "cell_type": "code",
   "execution_count": 11,
   "metadata": {},
   "outputs": [
    {
     "data": {
      "text/html": [
       "<div>\n",
       "<style scoped>\n",
       "    .dataframe tbody tr th:only-of-type {\n",
       "        vertical-align: middle;\n",
       "    }\n",
       "\n",
       "    .dataframe tbody tr th {\n",
       "        vertical-align: top;\n",
       "    }\n",
       "\n",
       "    .dataframe thead th {\n",
       "        text-align: right;\n",
       "    }\n",
       "</style>\n",
       "<table border=\"1\" class=\"dataframe\">\n",
       "  <thead>\n",
       "    <tr style=\"text-align: right;\">\n",
       "      <th></th>\n",
       "      <th>A</th>\n",
       "      <th>B</th>\n",
       "      <th>C</th>\n",
       "      <th>D</th>\n",
       "      <th>E</th>\n",
       "      <th>F</th>\n",
       "      <th>G</th>\n",
       "      <th>H</th>\n",
       "      <th>I</th>\n",
       "      <th>J</th>\n",
       "      <th>K</th>\n",
       "    </tr>\n",
       "  </thead>\n",
       "  <tbody>\n",
       "    <tr>\n",
       "      <th>0</th>\n",
       "      <td>3.179665</td>\n",
       "      <td>3.030625</td>\n",
       "      <td>3.222752</td>\n",
       "      <td>2.836624</td>\n",
       "      <td>3.386284</td>\n",
       "      <td>1.910165</td>\n",
       "      <td>2.179628</td>\n",
       "      <td>3.464657</td>\n",
       "      <td>3.705143</td>\n",
       "      <td>3.921797</td>\n",
       "      <td>3.566766</td>\n",
       "    </tr>\n",
       "    <tr>\n",
       "      <th>1</th>\n",
       "      <td>3.313155</td>\n",
       "      <td>3.127535</td>\n",
       "      <td>3.367189</td>\n",
       "      <td>2.799483</td>\n",
       "      <td>2.527001</td>\n",
       "      <td>2.359419</td>\n",
       "      <td>2.461049</td>\n",
       "      <td>3.394200</td>\n",
       "      <td>3.002324</td>\n",
       "      <td>3.487035</td>\n",
       "      <td>3.753581</td>\n",
       "    </tr>\n",
       "    <tr>\n",
       "      <th>2</th>\n",
       "      <td>3.531847</td>\n",
       "      <td>3.554489</td>\n",
       "      <td>3.441636</td>\n",
       "      <td>2.582776</td>\n",
       "      <td>2.730851</td>\n",
       "      <td>2.263097</td>\n",
       "      <td>2.461049</td>\n",
       "      <td>3.452962</td>\n",
       "      <td>3.531599</td>\n",
       "      <td>3.773342</td>\n",
       "      <td>3.254741</td>\n",
       "    </tr>\n",
       "    <tr>\n",
       "      <th>3</th>\n",
       "      <td>3.621384</td>\n",
       "      <td>3.828081</td>\n",
       "      <td>3.640896</td>\n",
       "      <td>2.704508</td>\n",
       "      <td>1.727649</td>\n",
       "      <td>1.855651</td>\n",
       "      <td>2.021082</td>\n",
       "      <td>3.570291</td>\n",
       "      <td>3.611415</td>\n",
       "      <td>3.725917</td>\n",
       "      <td>3.328318</td>\n",
       "    </tr>\n",
       "    <tr>\n",
       "      <th>4</th>\n",
       "      <td>3.285691</td>\n",
       "      <td>3.206716</td>\n",
       "      <td>2.992451</td>\n",
       "      <td>2.562289</td>\n",
       "      <td>3.011359</td>\n",
       "      <td>2.414187</td>\n",
       "      <td>2.612864</td>\n",
       "      <td>3.331957</td>\n",
       "      <td>3.143080</td>\n",
       "      <td>3.679484</td>\n",
       "      <td>3.874796</td>\n",
       "    </tr>\n",
       "  </tbody>\n",
       "</table>\n",
       "</div>"
      ],
      "text/plain": [
       "          A         B         C         D         E         F         G  \\\n",
       "0  3.179665  3.030625  3.222752  2.836624  3.386284  1.910165  2.179628   \n",
       "1  3.313155  3.127535  3.367189  2.799483  2.527001  2.359419  2.461049   \n",
       "2  3.531847  3.554489  3.441636  2.582776  2.730851  2.263097  2.461049   \n",
       "3  3.621384  3.828081  3.640896  2.704508  1.727649  1.855651  2.021082   \n",
       "4  3.285691  3.206716  2.992451  2.562289  3.011359  2.414187  2.612864   \n",
       "\n",
       "          H         I         J         K  \n",
       "0  3.464657  3.705143  3.921797  3.566766  \n",
       "1  3.394200  3.002324  3.487035  3.753581  \n",
       "2  3.452962  3.531599  3.773342  3.254741  \n",
       "3  3.570291  3.611415  3.725917  3.328318  \n",
       "4  3.331957  3.143080  3.679484  3.874796  "
      ]
     },
     "execution_count": 11,
     "metadata": {},
     "output_type": "execute_result"
    }
   ],
   "source": [
    "data = pd.read_csv(\"a1_data.csv\")\n",
    "data.head()"
   ]
  },
  {
   "cell_type": "code",
   "execution_count": 12,
   "metadata": {},
   "outputs": [],
   "source": [
    "# Create a causal model from the data and given graph.\n",
    "g1 = nx.DiGraph()\n",
    "graph_cons = [(\"A\", \"C\"), (\"A\", \"E\"), (\"A\", \"I\"), (\"A\", \"K\"), (\"B\", \"C\"), (\"B\", \"F\"),(\"B\", \"H\"), (\"B\", \"J\"), (\"C\", \"D\"), (\"C\", \"F\"), (\"C\", \"J\"), (\"D\", \"J\"),(\"E\", \"F\"), (\"G\", \"F\"), (\"G\", \"J\"), (\"H\", \"E\"), (\"H\", \"G\"), (\"H\", \"J\"),(\"I\", \"E\"), (\"I\", \"K\"), (\"K\", \"E\"), (\"K\", \"J\")]\n",
    "g1.add_edges_from(graph_cons)\n",
    "\n",
    "# Create a fully connected undirected graph\n",
    "g2 = nx.Graph()\n",
    "for x in list(\"ABCDEFGHIJK\"):\n",
    "    for y in list(\"ABCDEFGHIJK\"):\n",
    "        if x != y:\n",
    "            g2.add_edge(x, y)\n",
    "\n",
    "graph = \"\\n\".join(nx.generate_gml(g1))"
   ]
  },
  {
   "attachments": {},
   "cell_type": "markdown",
   "metadata": {},
   "source": [
    "### Manual constraint checking for the graph"
   ]
  },
  {
   "cell_type": "code",
   "execution_count": 13,
   "metadata": {},
   "outputs": [
    {
     "data": {
      "image/png": "[encoded data removed]",
      "text/plain": [
       "<Figure size 576x432 with 1 Axes>"
      ]
     },
     "metadata": {},
     "output_type": "display_data"
    }
   ],
   "source": [
    "model = CausalModel(\n",
    "    data=data,\n",
    "    treatment=\"A\",\n",
    "    outcome=\"B\",\n",
    "    graph=graph)\n",
    "model.view_model()\n"
   ]
  },
  {
   "cell_type": "code",
   "execution_count": 14,
   "metadata": {},
   "outputs": [
    {
     "name": "stdout",
     "output_type": "stream",
     "text": [
      "No directed path from ['A'] to ['B'] in the causal graph.\n",
      "Causal effect is zero.\n"
     ]
    }
   ],
   "source": [
    "identified_estimand = model.identify_effect(proceed_when_unidentifiable=True)\n",
    "print(identified_estimand)"
   ]
  },
  {
   "attachments": {},
   "cell_type": "markdown",
   "metadata": {},
   "source": [
    "### Automated constraint checking for the graph for all possible combinations of treatments and outcomes"
   ]
  },
  {
   "cell_type": "code",
   "execution_count": 15,
   "metadata": {},
   "outputs": [
    {
     "name": "stdout",
     "output_type": "stream",
     "text": [
      "A C\n",
      "=====================================\n",
      "No connection!\n",
      "A E\n",
      "=====================================\n",
      "No connection!\n",
      "A I\n",
      "=====================================\n",
      "No connection!\n",
      "A K\n",
      "=====================================\n",
      "No connection!\n",
      "B C\n",
      "=====================================\n",
      "No connection!\n",
      "B F\n",
      "=====================================\n",
      "No connection!\n",
      "B H\n",
      "=====================================\n",
      "No connection!\n",
      "B J\n",
      "=====================================\n",
      "No connection!\n",
      "C D\n",
      "=====================================\n",
      "Estimand found!\n",
      "C F\n",
      "=====================================\n",
      "Estimand found!\n",
      "C J\n",
      "=====================================\n",
      "Estimand found!\n",
      "D J\n",
      "=====================================\n",
      "Estimand found!\n",
      "E F\n",
      "=====================================\n",
      "Estimand found!\n",
      "G F\n",
      "=====================================\n",
      "Estimand found!\n",
      "G J\n",
      "=====================================\n",
      "Estimand found!\n",
      "H E\n",
      "=====================================\n",
      "Estimand found!\n",
      "H G\n",
      "=====================================\n",
      "Estimand found!\n",
      "H J\n",
      "=====================================\n",
      "Estimand found!\n",
      "I E\n",
      "=====================================\n",
      "Estimand found!\n",
      "I K\n",
      "=====================================\n",
      "Estimand found!\n",
      "K E\n",
      "=====================================\n",
      "Estimand found!\n",
      "K J\n",
      "=====================================\n",
      "Estimand found!\n"
     ]
    }
   ],
   "source": [
    "VERBOSE_LEVEL = 2  # 0: no output, 1: only connection, 2: all\n",
    "\n",
    "# Iterate over all possible combinations of treatments and outcomes.\n",
    "for x, y in graph_cons:\n",
    "    # Create a causal model from the data and given graph.\n",
    "    model = CausalModel(data=data, treatment=x, outcome=y, graph=graph)\n",
    "    identified_estimand = model.identify_effect(proceed_when_unidentifiable=True)\n",
    "    print(x, y)\n",
    "    print(\"=====================================\")\n",
    "\n",
    "    # Check if there is a connection between the treatment and the outcome.\n",
    "    if VERBOSE_LEVEL == 1:\n",
    "        if  len(identified_estimand.get_backdoor_variables()) == 0 and \\\n",
    "            len(identified_estimand.get_frontdoor_variables()) == 0 and \\\n",
    "            len(identified_estimand.get_instrumental_variables()) == 0 and \\\n",
    "            len(identified_estimand.get_mediator_variables()) == 0:\n",
    "            \n",
    "            print(\"No connection!\")\n",
    "        else:\n",
    "            print(\"Estimand found!\")\n",
    "    \n",
    "    # Print the identified estimand.\n",
    "    if VERBOSE_LEVEL == 2:\n",
    "        print(identified_estimand)"
   ]
  }
 ],
 "metadata": {
  "kernelspec": {
   "display_name": "Python 3",
   "language": "python",
   "name": "python3"
  },
  "language_info": {
   "codemirror_mode": {
    "name": "ipython",
    "version": 3
   },
   "file_extension": ".py",
   "mimetype": "text/x-python",
   "name": "python",
   "nbconvert_exporter": "python",
   "pygments_lexer": "ipython3",
   "version": "3.10.6"
  },
  "orig_nbformat": 4
 },
 "nbformat": 4,
 "nbformat_minor": 2
}

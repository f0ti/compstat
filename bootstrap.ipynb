{
 "cells": [
  {
   "cell_type": "code",
   "execution_count": 3,
   "id": "1cf50c2f-6286-4f05-9290-38b7b424ecf8",
   "metadata": {},
   "outputs": [],
   "source": [
    "import pandas as pd\n",
    "import matplotlib.pyplot as plt\n",
    "import numpy as np\n",
    "import time\n",
    "import math\n",
    "import tqdm"
   ]
  },
  {
   "cell_type": "markdown",
   "id": "0f4fa722-2ed8-4318-bbe3-9c77bb7ca20f",
   "metadata": {},
   "source": [
    "### Explore the dataset"
   ]
  },
  {
   "cell_type": "code",
   "execution_count": 4,
   "id": "b0cee8d2-ee9b-490c-aec4-e04ed6a47b44",
   "metadata": {
    "tags": []
   },
   "outputs": [
    {
     "data": {
      "text/plain": [
       "(15, 3)"
      ]
     },
     "execution_count": 4,
     "metadata": {},
     "output_type": "execute_result"
    }
   ],
   "source": [
    "df = pd.read_csv('law.csv', index_col=0)\n",
    "df.shape"
   ]
  },
  {
   "cell_type": "code",
   "execution_count": 5,
   "id": "7fa624b0-a4fa-48cb-addf-cf4eb248f61e",
   "metadata": {},
   "outputs": [
    {
     "data": {
      "text/html": [
       "<div>\n",
       "<style scoped>\n",
       "    .dataframe tbody tr th:only-of-type {\n",
       "        vertical-align: middle;\n",
       "    }\n",
       "\n",
       "    .dataframe tbody tr th {\n",
       "        vertical-align: top;\n",
       "    }\n",
       "\n",
       "    .dataframe thead th {\n",
       "        text-align: right;\n",
       "    }\n",
       "</style>\n",
       "<table border=\"1\" class=\"dataframe\">\n",
       "  <thead>\n",
       "    <tr style=\"text-align: right;\">\n",
       "      <th></th>\n",
       "      <th>observation</th>\n",
       "      <th>LSAT</th>\n",
       "      <th>GPA</th>\n",
       "    </tr>\n",
       "  </thead>\n",
       "  <tbody>\n",
       "    <tr>\n",
       "      <th>1</th>\n",
       "      <td>1</td>\n",
       "      <td>576</td>\n",
       "      <td>3.39</td>\n",
       "    </tr>\n",
       "    <tr>\n",
       "      <th>2</th>\n",
       "      <td>2</td>\n",
       "      <td>635</td>\n",
       "      <td>3.30</td>\n",
       "    </tr>\n",
       "    <tr>\n",
       "      <th>3</th>\n",
       "      <td>3</td>\n",
       "      <td>558</td>\n",
       "      <td>2.81</td>\n",
       "    </tr>\n",
       "    <tr>\n",
       "      <th>4</th>\n",
       "      <td>4</td>\n",
       "      <td>578</td>\n",
       "      <td>3.03</td>\n",
       "    </tr>\n",
       "    <tr>\n",
       "      <th>5</th>\n",
       "      <td>5</td>\n",
       "      <td>666</td>\n",
       "      <td>3.44</td>\n",
       "    </tr>\n",
       "    <tr>\n",
       "      <th>6</th>\n",
       "      <td>6</td>\n",
       "      <td>580</td>\n",
       "      <td>3.07</td>\n",
       "    </tr>\n",
       "    <tr>\n",
       "      <th>7</th>\n",
       "      <td>7</td>\n",
       "      <td>555</td>\n",
       "      <td>3.00</td>\n",
       "    </tr>\n",
       "    <tr>\n",
       "      <th>8</th>\n",
       "      <td>8</td>\n",
       "      <td>661</td>\n",
       "      <td>3.43</td>\n",
       "    </tr>\n",
       "    <tr>\n",
       "      <th>9</th>\n",
       "      <td>9</td>\n",
       "      <td>651</td>\n",
       "      <td>3.36</td>\n",
       "    </tr>\n",
       "    <tr>\n",
       "      <th>10</th>\n",
       "      <td>10</td>\n",
       "      <td>605</td>\n",
       "      <td>3.13</td>\n",
       "    </tr>\n",
       "    <tr>\n",
       "      <th>11</th>\n",
       "      <td>11</td>\n",
       "      <td>653</td>\n",
       "      <td>3.12</td>\n",
       "    </tr>\n",
       "    <tr>\n",
       "      <th>12</th>\n",
       "      <td>12</td>\n",
       "      <td>575</td>\n",
       "      <td>2.74</td>\n",
       "    </tr>\n",
       "    <tr>\n",
       "      <th>13</th>\n",
       "      <td>13</td>\n",
       "      <td>545</td>\n",
       "      <td>2.76</td>\n",
       "    </tr>\n",
       "    <tr>\n",
       "      <th>14</th>\n",
       "      <td>14</td>\n",
       "      <td>572</td>\n",
       "      <td>2.88</td>\n",
       "    </tr>\n",
       "    <tr>\n",
       "      <th>15</th>\n",
       "      <td>15</td>\n",
       "      <td>594</td>\n",
       "      <td>2.96</td>\n",
       "    </tr>\n",
       "  </tbody>\n",
       "</table>\n",
       "</div>"
      ],
      "text/plain": [
       "    observation  LSAT   GPA\n",
       "1             1   576  3.39\n",
       "2             2   635  3.30\n",
       "3             3   558  2.81\n",
       "4             4   578  3.03\n",
       "5             5   666  3.44\n",
       "6             6   580  3.07\n",
       "7             7   555  3.00\n",
       "8             8   661  3.43\n",
       "9             9   651  3.36\n",
       "10           10   605  3.13\n",
       "11           11   653  3.12\n",
       "12           12   575  2.74\n",
       "13           13   545  2.76\n",
       "14           14   572  2.88\n",
       "15           15   594  2.96"
      ]
     },
     "execution_count": 5,
     "metadata": {},
     "output_type": "execute_result"
    }
   ],
   "source": [
    "df.head(15)"
   ]
  },
  {
   "cell_type": "code",
   "execution_count": 4,
   "id": "bc0ca641-9e86-44b1-b438-5313c57966dd",
   "metadata": {},
   "outputs": [
    {
     "data": {
      "image/png": "[encoded data removed]",
      "text/plain": [
       "<Figure size 640x480 with 1 Axes>"
      ]
     },
     "metadata": {},
     "output_type": "display_data"
    }
   ],
   "source": [
    "labels = np.arange(1, 16).astype(str)\n",
    "plt.scatter(df['LSAT'], df['GPA'], color='orange')\n",
    "for x, y, label in zip(df['LSAT'], df['GPA'], labels):\n",
    "    plt.text(x+1, y, label)\n",
    "plt.xlabel('LSAT')\n",
    "plt.ylabel('GPA')\n",
    "plt.show()"
   ]
  },
  {
   "cell_type": "markdown",
   "id": "08945d6d-acce-4ce4-8a61-fbbb6d489cbc",
   "metadata": {},
   "source": [
    "### Calculate the Pearson's correlation coefficient"
   ]
  },
  {
   "cell_type": "code",
   "execution_count": 5,
   "id": "e8b25375-446d-4ad4-aebc-5a20e1d54f5a",
   "metadata": {},
   "outputs": [
    {
     "data": {
      "text/plain": [
       "0.7763744912894074"
      ]
     },
     "execution_count": 5,
     "metadata": {},
     "output_type": "execute_result"
    }
   ],
   "source": [
    "df.corr().loc['LSAT']['GPA']"
   ]
  },
  {
   "cell_type": "markdown",
   "id": "b4e8ad26-178e-4546-a33b-128269beb203",
   "metadata": {},
   "source": [
    "### Removing the outliers points 1 and 11 based on the scatter above"
   ]
  },
  {
   "cell_type": "code",
   "execution_count": 7,
   "id": "31f75a54-eb45-41e2-860c-d2695b6b9c53",
   "metadata": {
    "tags": []
   },
   "outputs": [],
   "source": [
    "df_dropped = df.drop(labels=[1, 11, 7], axis=0)"
   ]
  },
  {
   "cell_type": "code",
   "execution_count": 9,
   "id": "eef87f7b-29b9-4a7e-a4ab-ecb4d865d4ee",
   "metadata": {},
   "outputs": [
    {
     "data": {
      "text/html": [
       "<div>\n",
       "<style scoped>\n",
       "    .dataframe tbody tr th:only-of-type {\n",
       "        vertical-align: middle;\n",
       "    }\n",
       "\n",
       "    .dataframe tbody tr th {\n",
       "        vertical-align: top;\n",
       "    }\n",
       "\n",
       "    .dataframe thead th {\n",
       "        text-align: right;\n",
       "    }\n",
       "</style>\n",
       "<table border=\"1\" class=\"dataframe\">\n",
       "  <thead>\n",
       "    <tr style=\"text-align: right;\">\n",
       "      <th></th>\n",
       "      <th>observation</th>\n",
       "      <th>LSAT</th>\n",
       "      <th>GPA</th>\n",
       "    </tr>\n",
       "  </thead>\n",
       "  <tbody>\n",
       "    <tr>\n",
       "      <th>2</th>\n",
       "      <td>2</td>\n",
       "      <td>635</td>\n",
       "      <td>3.30</td>\n",
       "    </tr>\n",
       "    <tr>\n",
       "      <th>3</th>\n",
       "      <td>3</td>\n",
       "      <td>558</td>\n",
       "      <td>2.81</td>\n",
       "    </tr>\n",
       "    <tr>\n",
       "      <th>4</th>\n",
       "      <td>4</td>\n",
       "      <td>578</td>\n",
       "      <td>3.03</td>\n",
       "    </tr>\n",
       "    <tr>\n",
       "      <th>5</th>\n",
       "      <td>5</td>\n",
       "      <td>666</td>\n",
       "      <td>3.44</td>\n",
       "    </tr>\n",
       "    <tr>\n",
       "      <th>6</th>\n",
       "      <td>6</td>\n",
       "      <td>580</td>\n",
       "      <td>3.07</td>\n",
       "    </tr>\n",
       "    <tr>\n",
       "      <th>8</th>\n",
       "      <td>8</td>\n",
       "      <td>661</td>\n",
       "      <td>3.43</td>\n",
       "    </tr>\n",
       "    <tr>\n",
       "      <th>9</th>\n",
       "      <td>9</td>\n",
       "      <td>651</td>\n",
       "      <td>3.36</td>\n",
       "    </tr>\n",
       "    <tr>\n",
       "      <th>10</th>\n",
       "      <td>10</td>\n",
       "      <td>605</td>\n",
       "      <td>3.13</td>\n",
       "    </tr>\n",
       "    <tr>\n",
       "      <th>12</th>\n",
       "      <td>12</td>\n",
       "      <td>575</td>\n",
       "      <td>2.74</td>\n",
       "    </tr>\n",
       "    <tr>\n",
       "      <th>13</th>\n",
       "      <td>13</td>\n",
       "      <td>545</td>\n",
       "      <td>2.76</td>\n",
       "    </tr>\n",
       "    <tr>\n",
       "      <th>14</th>\n",
       "      <td>14</td>\n",
       "      <td>572</td>\n",
       "      <td>2.88</td>\n",
       "    </tr>\n",
       "    <tr>\n",
       "      <th>15</th>\n",
       "      <td>15</td>\n",
       "      <td>594</td>\n",
       "      <td>2.96</td>\n",
       "    </tr>\n",
       "  </tbody>\n",
       "</table>\n",
       "</div>"
      ],
      "text/plain": [
       "    observation  LSAT   GPA\n",
       "2             2   635  3.30\n",
       "3             3   558  2.81\n",
       "4             4   578  3.03\n",
       "5             5   666  3.44\n",
       "6             6   580  3.07\n",
       "8             8   661  3.43\n",
       "9             9   651  3.36\n",
       "10           10   605  3.13\n",
       "12           12   575  2.74\n",
       "13           13   545  2.76\n",
       "14           14   572  2.88\n",
       "15           15   594  2.96"
      ]
     },
     "execution_count": 9,
     "metadata": {},
     "output_type": "execute_result"
    }
   ],
   "source": [
    "df_dropped"
   ]
  },
  {
   "cell_type": "markdown",
   "id": "315094cc-3a00-42c3-a112-ed1001ef1701",
   "metadata": {},
   "source": [
    "### Bootstrap and Pearson's coefficient"
   ]
  },
  {
   "cell_type": "code",
   "execution_count": 5,
   "id": "d148a570-6529-4b1e-beba-ee6b0498538b",
   "metadata": {},
   "outputs": [],
   "source": [
    "def nonpar_bootstrap(data, B):\n",
    "    rs = np.zeros(B)\n",
    "    for i in tqdm.tqdm(range(B)):\n",
    "        selected = np.random.choice(data['observation'], size=data['observation'].shape, replace=True)\n",
    "        bootstrap_df = data.loc[selected]\n",
    "        #bootstrap_df.index = np.arange(1, data['observation'].shape[0]+1)\n",
    "        # Pearson's coefficient\n",
    "        r = bootstrap_df.corr().loc['LSAT']['GPA']\n",
    "        rs[i] = r\n",
    "    return rs"
   ]
  },
  {
   "cell_type": "code",
   "execution_count": 10,
   "id": "49c0ea91-8625-495f-a4e6-3684fcf89bc5",
   "metadata": {},
   "outputs": [
    {
     "name": "stderr",
     "output_type": "stream",
     "text": [
      "100%|███████████████████████████████████████████████████████████████████████████| 40000/40000 [01:13<00:00, 544.28it/s]\n"
     ]
    },
    {
     "data": {
      "text/plain": [
       "73.50548839569092"
      ]
     },
     "execution_count": 10,
     "metadata": {},
     "output_type": "execute_result"
    }
   ],
   "source": [
    "t1 = time.time()\n",
    "rs4 = nonpar_bootstrap(df_dropped, 40000)\n",
    "t2 = time.time()\n",
    "delta = t2 - t1\n",
    "np.save('rs4', rs4)\n",
    "delta"
   ]
  },
  {
   "cell_type": "code",
   "execution_count": 11,
   "id": "04c13435-f385-4e70-a406-b67e7d2b2a72",
   "metadata": {},
   "outputs": [],
   "source": [
    "rs1 = np.load('rs1.npy')\n",
    "rs2 = np.load('rs2.npy')\n",
    "rs3 = np.load('rs3.npy')\n",
    "rs4 = np.load('rs4.npy')"
   ]
  },
  {
   "cell_type": "code",
   "execution_count": 13,
   "id": "d40ebffb-da88-4d9b-a024-df48a105094e",
   "metadata": {},
   "outputs": [
    {
     "data": {
      "text/plain": [
       "((40000,), (1000000,), (40000,), (40000,))"
      ]
     },
     "execution_count": 13,
     "metadata": {},
     "output_type": "execute_result"
    }
   ],
   "source": [
    "rs1.shape, rs2.shape, rs3.shape, rs4.shape"
   ]
  },
  {
   "cell_type": "markdown",
   "id": "cac049e7-a3c0-4c6f-936e-6267b09948c2",
   "metadata": {},
   "source": [
    "### P"
   ]
  },
  {
   "cell_type": "code",
   "execution_count": 16,
   "id": "b94eb765-18b9-4ed9-b41e-bfcce3613cc4",
   "metadata": {},
   "outputs": [
    {
     "data": {
      "image/png": "[encoded data removed]",
      "text/plain": [
       "<Figure size 1500x600 with 3 Axes>"
      ]
     },
     "metadata": {},
     "output_type": "display_data"
    }
   ],
   "source": [
    "rs = [rs1, rs3, rs4]\n",
    "titles = ['B = 40K', 'B = 40K after removing two outliers', 'B = 40K after removing three outliers']\n",
    "fig, axs = plt.subplots(1, 3, figsize=(15, 6))\n",
    "for ax, r, title in zip(axs, rs, titles):\n",
    "    ax.hist(r, bins=200, edgecolor='black')\n",
    "    ax.set_title(title)\n",
    "    ax.set_xlabel('r')\n",
    "    ax.set_ylabel('Counts')\n",
    "plt.show()"
   ]
  },
  {
   "cell_type": "code",
   "execution_count": 17,
   "id": "8e6c0364-946d-42b4-95ea-f3f80f1ff785",
   "metadata": {},
   "outputs": [],
   "source": [
    "fig.savefig('Histograms after three outliers')"
   ]
  },
  {
   "cell_type": "markdown",
   "id": "9d1be037",
   "metadata": {},
   "source": [
    "### Gray Codes"
   ]
  },
  {
   "cell_type": "code",
   "execution_count": null,
   "id": "7deef22f",
   "metadata": {},
   "outputs": [],
   "source": [
    "n = len(df)\n",
    "i = 0\n",
    "# total number of samples - 77558760\n",
    "total = math.comb(29, 14)\n",
    "\n",
    "# gray_code zero matrix 77558760 x 15\n",
    "gray_codes = np.zeros((total, n))\n",
    "sample = np.zeros(n)\n",
    "\n",
    "# first sample\n",
    "sample[0] = n\n",
    "\n",
    "# first gray code\n",
    "index_1 = n\n",
    "sample_index = -1\n",
    "gray_codes[i] = sample\n",
    "i += 1\n",
    "\n",
    "# generate gray codes\n",
    "while i != total:\n",
    "  # if gray_code sample is done\n",
    "  if index_1 != 1:\n",
    "    sample_index = -1\n",
    "  \n",
    "  sample_index = sample_index + 1\n",
    "  index_1 = sample[sample_index]\n",
    "\n",
    "  sample[sample_index] = 0\n",
    "  sample[0] = index_1-1\n",
    "  sample[sample_index + 1] = sample[sample_index+1] + 1\n",
    "  \n",
    "  gray_codes[i] = sample\n",
    "  i += 1"
   ]
  },
  {
   "cell_type": "code",
   "execution_count": 7,
   "id": "cfee5c81-e37c-4d61-ac8f-bfd9b1352e24",
   "metadata": {},
   "outputs": [
    {
     "data": {
      "text/plain": [
       "array([[14.,  0.,  0., ...,  0.,  0.,  0.],\n",
       "       [13.,  1.,  0., ...,  0.,  0.,  0.],\n",
       "       [12.,  2.,  0., ...,  0.,  0.,  0.],\n",
       "       ...,\n",
       "       [ 0.,  6.,  2., ...,  0.,  0.,  0.],\n",
       "       [ 5.,  0.,  3., ...,  0.,  0.,  0.],\n",
       "       [ 4.,  1.,  3., ...,  0.,  0.,  0.]])"
      ]
     },
     "execution_count": 7,
     "metadata": {},
     "output_type": "execute_result"
    }
   ],
   "source": [
    "gray_codes"
   ]
  },
  {
   "cell_type": "code",
   "execution_count": 8,
   "id": "49b3c318",
   "metadata": {},
   "outputs": [
    {
     "data": {
      "text/plain": [
       "(40000, 14)"
      ]
     },
     "execution_count": 8,
     "metadata": {},
     "output_type": "execute_result"
    }
   ],
   "source": [
    "gray_codes.shape"
   ]
  },
  {
   "cell_type": "code",
   "execution_count": 9,
   "id": "a0cdc5b6",
   "metadata": {},
   "outputs": [
    {
     "data": {
      "text/html": [
       "<div>\n",
       "<style scoped>\n",
       "    .dataframe tbody tr th:only-of-type {\n",
       "        vertical-align: middle;\n",
       "    }\n",
       "\n",
       "    .dataframe tbody tr th {\n",
       "        vertical-align: top;\n",
       "    }\n",
       "\n",
       "    .dataframe thead th {\n",
       "        text-align: right;\n",
       "    }\n",
       "</style>\n",
       "<table border=\"1\" class=\"dataframe\">\n",
       "  <thead>\n",
       "    <tr style=\"text-align: right;\">\n",
       "      <th></th>\n",
       "      <th>0</th>\n",
       "      <th>1</th>\n",
       "      <th>2</th>\n",
       "      <th>3</th>\n",
       "      <th>4</th>\n",
       "      <th>5</th>\n",
       "      <th>6</th>\n",
       "      <th>7</th>\n",
       "      <th>8</th>\n",
       "      <th>9</th>\n",
       "      <th>10</th>\n",
       "      <th>11</th>\n",
       "      <th>12</th>\n",
       "      <th>13</th>\n",
       "    </tr>\n",
       "  </thead>\n",
       "  <tbody>\n",
       "    <tr>\n",
       "      <th>0</th>\n",
       "      <td>14</td>\n",
       "      <td>0</td>\n",
       "      <td>0</td>\n",
       "      <td>0</td>\n",
       "      <td>0</td>\n",
       "      <td>0</td>\n",
       "      <td>0</td>\n",
       "      <td>0</td>\n",
       "      <td>0</td>\n",
       "      <td>0</td>\n",
       "      <td>0</td>\n",
       "      <td>0</td>\n",
       "      <td>0</td>\n",
       "      <td>0</td>\n",
       "    </tr>\n",
       "    <tr>\n",
       "      <th>1</th>\n",
       "      <td>13</td>\n",
       "      <td>1</td>\n",
       "      <td>0</td>\n",
       "      <td>0</td>\n",
       "      <td>0</td>\n",
       "      <td>0</td>\n",
       "      <td>0</td>\n",
       "      <td>0</td>\n",
       "      <td>0</td>\n",
       "      <td>0</td>\n",
       "      <td>0</td>\n",
       "      <td>0</td>\n",
       "      <td>0</td>\n",
       "      <td>0</td>\n",
       "    </tr>\n",
       "    <tr>\n",
       "      <th>2</th>\n",
       "      <td>12</td>\n",
       "      <td>2</td>\n",
       "      <td>0</td>\n",
       "      <td>0</td>\n",
       "      <td>0</td>\n",
       "      <td>0</td>\n",
       "      <td>0</td>\n",
       "      <td>0</td>\n",
       "      <td>0</td>\n",
       "      <td>0</td>\n",
       "      <td>0</td>\n",
       "      <td>0</td>\n",
       "      <td>0</td>\n",
       "      <td>0</td>\n",
       "    </tr>\n",
       "    <tr>\n",
       "      <th>3</th>\n",
       "      <td>11</td>\n",
       "      <td>3</td>\n",
       "      <td>0</td>\n",
       "      <td>0</td>\n",
       "      <td>0</td>\n",
       "      <td>0</td>\n",
       "      <td>0</td>\n",
       "      <td>0</td>\n",
       "      <td>0</td>\n",
       "      <td>0</td>\n",
       "      <td>0</td>\n",
       "      <td>0</td>\n",
       "      <td>0</td>\n",
       "      <td>0</td>\n",
       "    </tr>\n",
       "    <tr>\n",
       "      <th>4</th>\n",
       "      <td>10</td>\n",
       "      <td>4</td>\n",
       "      <td>0</td>\n",
       "      <td>0</td>\n",
       "      <td>0</td>\n",
       "      <td>0</td>\n",
       "      <td>0</td>\n",
       "      <td>0</td>\n",
       "      <td>0</td>\n",
       "      <td>0</td>\n",
       "      <td>0</td>\n",
       "      <td>0</td>\n",
       "      <td>0</td>\n",
       "      <td>0</td>\n",
       "    </tr>\n",
       "  </tbody>\n",
       "</table>\n",
       "</div>"
      ],
      "text/plain": [
       "    0  1  2  3  4  5  6  7  8  9  10  11  12  13\n",
       "0  14  0  0  0  0  0  0  0  0  0   0   0   0   0\n",
       "1  13  1  0  0  0  0  0  0  0  0   0   0   0   0\n",
       "2  12  2  0  0  0  0  0  0  0  0   0   0   0   0\n",
       "3  11  3  0  0  0  0  0  0  0  0   0   0   0   0\n",
       "4  10  4  0  0  0  0  0  0  0  0   0   0   0   0"
      ]
     },
     "execution_count": 9,
     "metadata": {},
     "output_type": "execute_result"
    }
   ],
   "source": [
    "gray_codes_df = pd.DataFrame(gray_codes, columns = [str(x) for x in range(n)]).astype(int)\n",
    "gray_codes_df.head()"
   ]
  }
 ],
 "metadata": {
  "kernelspec": {
   "display_name": "Python 3 (ipykernel)",
   "language": "python",
   "name": "python3"
  },
  "language_info": {
   "codemirror_mode": {
    "name": "ipython",
    "version": 3
   },
   "file_extension": ".py",
   "mimetype": "text/x-python",
   "name": "python",
   "nbconvert_exporter": "python",
   "pygments_lexer": "ipython3",
   "version": "3.10.6"
  }
 },
 "nbformat": 4,
 "nbformat_minor": 5
}
